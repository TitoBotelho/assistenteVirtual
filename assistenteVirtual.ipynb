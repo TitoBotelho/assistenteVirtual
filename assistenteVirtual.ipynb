{
 "cells": [
  {
   "attachments": {},
   "cell_type": "markdown",
   "metadata": {},
   "source": [
    "Referências:\n",
    "\n",
    "https://github.com/FlaysonSantos/Assistente_virtual\n",
    "\n",
    "https://github.com/diegobrunoDIO/Text-to-Speech-DIO\n",
    "\n",
    "https://github.com/diegobrunoDIO/Speech-to-text-ML-DIO/blob/main/Speech-to-text.py"
   ]
  },
  {
   "cell_type": "code",
   "execution_count": 17,
   "metadata": {},
   "outputs": [],
   "source": [
    "\n",
    "from gtts import gTTS"
   ]
  },
  {
   "cell_type": "code",
   "execution_count": 21,
   "metadata": {},
   "outputs": [
    {
     "data": {
      "text/html": [
       "\n",
       "                <audio  controls=\"controls\" >\n",
       "                    <source src=\"data:audio/wav;base64,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\" type=\"audio/wav\" />\n",
       "                    Your browser does not support the audio element.\n",
       "                </audio>\n",
       "              "
      ],
      "text/plain": [
       "<IPython.lib.display.Audio object>"
      ]
     },
     "execution_count": 21,
     "metadata": {},
     "output_type": "execute_result"
    }
   ],
   "source": [
    "#instalar a biblioteca gTTS !pip install gTTS\n",
    "\n",
    "\n",
    "text_to_say = \"Hi. My name is Clicadinha. I am your virtual friend.\"\n",
    "\n",
    "language = \"en\"\n",
    "\n",
    "gtts_object = gTTS(text = text_to_say, \n",
    "                  lang = language,\n",
    "                  slow = False)\n",
    "\n",
    "gtts_object.save(\"gtts.wav\")\n",
    "\n",
    "from IPython.display import Audio\n",
    "\n",
    "Audio(\"gtts.wav\")"
   ]
  },
  {
   "cell_type": "code",
   "execution_count": null,
   "metadata": {},
   "outputs": [],
   "source": [
    "#modulo 2 Speech to text \"converte voz por texto\""
   ]
  },
  {
   "cell_type": "code",
   "execution_count": null,
   "metadata": {},
   "outputs": [],
   "source": [
    "# Se necessario instale a biblioteca \"SpeechRecognition, playsound\", com os comandos\n",
    "\n",
    "#( pip install SpeechRecognition )\n",
    "#( pip install playsound )\n",
    "# ( pip install pyjokes )\n",
    "# ( pip install wikipedia )\n",
    "# ( pip install PyAudio )\n",
    "# ( pip install winshell )\n",
    "# ( pip install pygame )"
   ]
  },
  {
   "cell_type": "code",
   "execution_count": 22,
   "metadata": {},
   "outputs": [],
   "source": [
    "#bibiotecas a serem importadas para o projeto\n",
    "import speech_recognition as sr\n",
    "from gtts import gTTS\n",
    "import os\n",
    "from datetime import datetime\n",
    "import playsound\n",
    "import pyjokes\n",
    "import wikipedia\n",
    "import pyaudio\n",
    "import webbrowser\n",
    "import winshell\n"
   ]
  },
  {
   "cell_type": "code",
   "execution_count": 24,
   "metadata": {},
   "outputs": [
    {
     "name": "stdout",
     "output_type": "stream",
     "text": [
      "I am listening...\n",
      "result2:\n",
      "{   'alternative': [   {'confidence': 0.80982059, 'transcript': 'Easton'},\n",
      "                       {'transcript': 'Eastern'},\n",
      "                       {'transcript': 'Houston'}],\n",
      "    'final': True}\n",
      "Easton\n",
      "Text from get audio easton\n",
      "I am listening...\n"
     ]
    },
    {
     "ename": "KeyboardInterrupt",
     "evalue": "",
     "output_type": "error",
     "traceback": [
      "\u001b[1;31m---------------------------------------------------------------------------\u001b[0m",
      "\u001b[1;31mKeyboardInterrupt\u001b[0m                         Traceback (most recent call last)",
      "Cell \u001b[1;32mIn[24], line 85\u001b[0m\n\u001b[0;32m     83\u001b[0m \u001b[39mwhile\u001b[39;00m \u001b[39mTrue\u001b[39;00m:\n\u001b[0;32m     84\u001b[0m     \u001b[39mprint\u001b[39m(\u001b[39m\"\u001b[39m\u001b[39mI am listening...\u001b[39m\u001b[39m\"\u001b[39m)\n\u001b[1;32m---> 85\u001b[0m     text \u001b[39m=\u001b[39m get_audio()\n\u001b[0;32m     86\u001b[0m     respond(text)\n",
      "Cell \u001b[1;32mIn[24], line 9\u001b[0m, in \u001b[0;36mget_audio\u001b[1;34m()\u001b[0m\n\u001b[0;32m      6\u001b[0m \u001b[39m# wait for a second to let the recognizer adjust the\u001b[39;00m\n\u001b[0;32m      7\u001b[0m \u001b[39m# energy threshold based on the surrounding noise level\u001b[39;00m\n\u001b[0;32m      8\u001b[0m r\u001b[39m.\u001b[39madjust_for_ambient_noise(source, duration\u001b[39m=\u001b[39m\u001b[39m1\u001b[39m)\n\u001b[1;32m----> 9\u001b[0m audio \u001b[39m=\u001b[39m r\u001b[39m.\u001b[39;49mlisten(source)\n\u001b[0;32m     10\u001b[0m said \u001b[39m=\u001b[39m \u001b[39m\"\u001b[39m\u001b[39m\"\u001b[39m\n\u001b[0;32m     11\u001b[0m \u001b[39mtry\u001b[39;00m:\n",
      "File \u001b[1;32mc:\\Users\\Tito_\\AppData\\Local\\Programs\\Python\\Python311\\Lib\\site-packages\\speech_recognition\\__init__.py:709\u001b[0m, in \u001b[0;36mRecognizer.listen\u001b[1;34m(self, source, timeout, phrase_time_limit, snowboy_configuration)\u001b[0m\n\u001b[0;32m    706\u001b[0m \u001b[39mif\u001b[39;00m phrase_time_limit \u001b[39mand\u001b[39;00m elapsed_time \u001b[39m-\u001b[39m phrase_start_time \u001b[39m>\u001b[39m phrase_time_limit:\n\u001b[0;32m    707\u001b[0m     \u001b[39mbreak\u001b[39;00m\n\u001b[1;32m--> 709\u001b[0m buffer \u001b[39m=\u001b[39m source\u001b[39m.\u001b[39;49mstream\u001b[39m.\u001b[39;49mread(source\u001b[39m.\u001b[39;49mCHUNK)\n\u001b[0;32m    710\u001b[0m \u001b[39mif\u001b[39;00m \u001b[39mlen\u001b[39m(buffer) \u001b[39m==\u001b[39m \u001b[39m0\u001b[39m: \u001b[39mbreak\u001b[39;00m  \u001b[39m# reached end of the stream\u001b[39;00m\n\u001b[0;32m    711\u001b[0m frames\u001b[39m.\u001b[39mappend(buffer)\n",
      "File \u001b[1;32mc:\\Users\\Tito_\\AppData\\Local\\Programs\\Python\\Python311\\Lib\\site-packages\\speech_recognition\\__init__.py:211\u001b[0m, in \u001b[0;36mMicrophone.MicrophoneStream.read\u001b[1;34m(self, size)\u001b[0m\n\u001b[0;32m    210\u001b[0m \u001b[39mdef\u001b[39;00m \u001b[39mread\u001b[39m(\u001b[39mself\u001b[39m, size):\n\u001b[1;32m--> 211\u001b[0m     \u001b[39mreturn\u001b[39;00m \u001b[39mself\u001b[39;49m\u001b[39m.\u001b[39;49mpyaudio_stream\u001b[39m.\u001b[39;49mread(size, exception_on_overflow\u001b[39m=\u001b[39;49m\u001b[39mFalse\u001b[39;49;00m)\n",
      "File \u001b[1;32mc:\\Users\\Tito_\\AppData\\Local\\Programs\\Python\\Python311\\Lib\\site-packages\\pyaudio.py:612\u001b[0m, in \u001b[0;36mStream.read\u001b[1;34m(self, num_frames, exception_on_overflow)\u001b[0m\n\u001b[0;32m    608\u001b[0m \u001b[39mif\u001b[39;00m \u001b[39mnot\u001b[39;00m \u001b[39mself\u001b[39m\u001b[39m.\u001b[39m_is_input:\n\u001b[0;32m    609\u001b[0m     \u001b[39mraise\u001b[39;00m \u001b[39mIOError\u001b[39;00m(\u001b[39m\"\u001b[39m\u001b[39mNot input stream\u001b[39m\u001b[39m\"\u001b[39m,\n\u001b[0;32m    610\u001b[0m                   paCanNotReadFromAnOutputOnlyStream)\n\u001b[1;32m--> 612\u001b[0m \u001b[39mreturn\u001b[39;00m pa\u001b[39m.\u001b[39;49mread_stream(\u001b[39mself\u001b[39;49m\u001b[39m.\u001b[39;49m_stream, num_frames, exception_on_overflow)\n",
      "\u001b[1;31mKeyboardInterrupt\u001b[0m: "
     ]
    }
   ],
   "source": [
    "#get mic audio\n",
    "def get_audio():\n",
    "    r = sr.Recognizer()\n",
    "    with sr.Microphone() as source:\n",
    "        r.pause_threshold = 1\n",
    "        # wait for a second to let the recognizer adjust the\n",
    "        # energy threshold based on the surrounding noise level\n",
    "        r.adjust_for_ambient_noise(source, duration=1)\n",
    "        audio = r.listen(source)\n",
    "        said = \"\"\n",
    "        try:\n",
    "            said = r.recognize_google(audio)\n",
    "            print(said)\n",
    "        except sr.UnknownValueError:\n",
    "            speak(\"Sorry, I did not get that.\")\n",
    "        except sr.RequestError:\n",
    "            speak(\"Sorry, the service is not available\")\n",
    "    return said.lower()\n",
    "\n",
    "#speak converted audio to text\n",
    "def speak(text):\n",
    "    tts = gTTS(text=text, lang='en')\n",
    "    filename = \"voice.mp3\"\n",
    "    try:\n",
    "        os.remove(filename)\n",
    "    except OSError:\n",
    "        pass\n",
    "    tts.save(filename)\n",
    "    playsound.playsound(filename)\n",
    "\n",
    "#function to respond to commands\n",
    "def respond(text):\n",
    "    print(\"Text from get audio \" + text)\n",
    "    if 'youtube' in text:\n",
    "        speak(\"What do you want to search for?\")\n",
    "        keyword = get_audio()\n",
    "        if keyword!= '':\n",
    "            url = f\"https://www.youtube.com/results?search_query={keyword}\"\n",
    "            webbrowser.get().open(url)\n",
    "            speak(f\"Here is what I have found for {keyword} on youtube\")\n",
    "    elif 'search' in text:\n",
    "        speak(\"What do you want to search for?\")\n",
    "        query = get_audio()\n",
    "        if query !='':\n",
    "            result = wikipedia.summary(query, sentences=3)\n",
    "            speak(\"According to wikipedia\")\n",
    "            print(result)\n",
    "            speak(result)\n",
    "    elif 'joke' in text:\n",
    "        speak(pyjokes.get_joke())\n",
    "    elif 'empty recycle bin' in text:\n",
    "        winshell.recycle_bin().empty(confirm=False, show_progress=False, sound=True)\n",
    "        speak(\"Recycle bin emptied\")\n",
    "    elif 'what time' in text:\n",
    "        strTime = datetime.today().strftime(\"%H:%M %p\")\n",
    "        print(strTime)\n",
    "        speak(strTime)\n",
    "    elif 'play music' in text or 'play song' in text:\n",
    "        speak(\"Now playing...\")\n",
    "        music_dir = \"C:\\\\Users\\\\UserName\\\\Downloads\\\\Music\\\\\" #add your music directory here..\n",
    "        songs = os.listdir(music_dir)\n",
    "        #counter = 0\n",
    "        print(songs)\n",
    "        playmusic(music_dir + \"\\\\\" + songs[0])\n",
    "    elif 'stop music' in text:\n",
    "        speak(\"Stopping playback.\")\n",
    "        stopmusic()\n",
    "    elif 'exit' in text:\n",
    "        speak(\"Goodbye, till next time\")\n",
    "        exit()\n",
    "#play music\n",
    "def playmusic(song):\n",
    "    mixer.init()\n",
    "    mixer.music.load(song)\n",
    "    mixer.music.play()\n",
    "#stop music\n",
    "def stopmusic():\n",
    "    mixer.music.stop()\n",
    "\n",
    "#let's try it\n",
    "#text = get_audio()\n",
    "#speak(text)\n",
    "while True:\n",
    "    print(\"I am listening...\")\n",
    "    text = get_audio()\n",
    "    respond(text)"
   ]
  }
 ],
 "metadata": {
  "kernelspec": {
   "display_name": "Python 3",
   "language": "python",
   "name": "python3"
  },
  "language_info": {
   "codemirror_mode": {
    "name": "ipython",
    "version": 3
   },
   "file_extension": ".py",
   "mimetype": "text/x-python",
   "name": "python",
   "nbconvert_exporter": "python",
   "pygments_lexer": "ipython3",
   "version": "3.11.1"
  },
  "orig_nbformat": 4,
  "vscode": {
   "interpreter": {
    "hash": "c0b7baa23f3139c4fc9cf72eccb9cc2ef49af1b1d0972ac75d347369f8ee2c91"
   }
  }
 },
 "nbformat": 4,
 "nbformat_minor": 2
}
